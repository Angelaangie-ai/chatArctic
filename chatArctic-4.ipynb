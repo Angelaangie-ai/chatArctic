{
  "nbformat": 4,
  "nbformat_minor": 0,
  "metadata": {
    "colab": {
      "provenance": [],
      "machine_shape": "hm",
      "gpuType": "T4"
    },
    "kernelspec": {
      "name": "python3",
      "display_name": "Python 3"
    },
    "language_info": {
      "name": "python"
    },
    "accelerator": "GPU"
  },
  "cells": [
    {
      "cell_type": "code",
      "source": [
        "import json\n",
        "import yaml"
      ],
      "metadata": {
        "id": "36qfbOUZM44c"
      },
      "execution_count": null,
      "outputs": []
    },
    {
      "cell_type": "markdown",
      "source": [
        "Load examples of possible conversations"
      ],
      "metadata": {
        "id": "76ujxOwPeZJC"
      }
    },
    {
      "cell_type": "code",
      "source": [
        "with open('/content/climate-change.yml', 'r') as file:\n",
        "     data = yaml.safe_load(file)\n",
        "\n",
        "data"
      ],
      "metadata": {
        "id": "jovOn-wyNwPL",
        "colab": {
          "base_uri": "https://localhost:8080/"
        },
        "outputId": "767ae4d5-7967-4c72-aaeb-86a3ed861024"
      },
      "execution_count": null,
      "outputs": [
        {
          "output_type": "execute_result",
          "data": {
            "text/plain": [
              "{'categories': ['climate change'],\n",
              " 'conversations': [['Why is the Arctic important in the climate change crisis?',\n",
              "   \"The Arctic is central to climate risks because it has a disproportionately strong effect on climate and weather in the rest of the world. The Arctic helps regulate the world's climate, influencing the Earth's atmospheric circulation systems.\",\n",
              "   'It has direct and indirect impacts on extreme heat and cold.',\n",
              "   'It warms at least three times faster than the rest of the planet.'],\n",
              "  ['What are the risks of the melting?',\n",
              "   'Extreme weather and sea level rise.',\n",
              "   'Supply chain disruption and heat stress.',\n",
              "   'Accelerates melting of the Greenland ice sheet - which contains the equivalent of 7.4m of sea level rise.'],\n",
              "  ['What is currently happening at the Arctic?',\n",
              "   'Arctic sea ice in winter, 2022, experienced the second earliest sea ice maximum due in part to heat waves in March.',\n",
              "   'This resulted in significant deterioration in sea ice concentrations to the east of Greenland.'],\n",
              "  ['What are some examples for extreme weather?',\n",
              "   'There were Arctic wildfires in Siberia.',\n",
              "   'In the spring 2022, there were a record number of tornadoes that pummelled in the United States.',\n",
              "   'Pakistan hit the warmest temperatures in 121 years.'],\n",
              "  ['How does the Arctic puts food security at risk?',\n",
              "   'It contributes to the risk of crop failures due to jet stream changes.',\n",
              "   'Extreme summer events disrupt the effective water management.'],\n",
              "  ['How does the Arctic influence the economic cost of climate change?',\n",
              "   'Recent extreme events like wildfires in Australia and the US have caused billions of USD worth of economic damage each.',\n",
              "   'Arctic warming alone is estimated for around 5% of all costs to climate change.',\n",
              "   'A small amount of these losses is occuring in the Arctic region itself, affecting indigenous communities who have adapted to live in harsh conditions.',\n",
              "   ['What are the pressures that Arctic communities are facing?'],\n",
              "   'Damages to infrastructure.',\n",
              "   'Growing wildfires.'],\n",
              "  ['How do we stay out of fossil fuels?',\n",
              "   'Government should ensure no new investments in fossil fuel development are made.',\n",
              "   'Banks should not finance oil, gas or ming projects in the Arctic.',\n",
              "   'We must keep banks like JPMorgan, Morgan Stanley, Goldman Sachs, Citi and Wells Fargo accountable to their pledges to not fund oil and gas.'],\n",
              "  ['How can we define a business roadmap for climate action?',\n",
              "   {'The roadmap will require coordinated action to push forward the emission mitigation options, highlighted by the IPCC': 'demand management, energy and materials efficiency, circular material flows, as well as abatement technologies and transformational changes in production processes.'},\n",
              "   'The carbon capture technology can help hard-to-abate sectors achieve net-zero, but should be used with caution.'],\n",
              "  ['How to reduce black carbon emissions?',\n",
              "   'Businesses who run or benefit from commercial shipping routes through the Arctic should immediately stop heavy fuel use.',\n",
              "   'Exemptions and allowances in its current proposals for a ban are estimated to reduce black carbon by just 5%, where a full ban on heavy fuel oil could reduce black carbon emissions by 30% in Arctic.'],\n",
              "  ['What are some solutions to help the Arctic?',\n",
              "   'No new investments in fossil fuels.',\n",
              "   'Phase out coal power.',\n",
              "   'Define a business roadmap for climate action.',\n",
              "   'Change shipping practices in the Arctic.',\n",
              "   'Improve food and water security.',\n",
              "   'Loss and damage payments.'],\n",
              "  ['How to align financial flows with net zero?',\n",
              "   'Businesses and governments should work towards putting a price on carbon, which allows companies to incorporate the externalities of their emissions accurately.',\n",
              "   'Businesses can begin by using an internal carbon price to support their transition plans.',\n",
              "   'Investors and financial institutions should invest in key technologies, especially in developing countries.'],\n",
              "  ['What are the adaptation, loss and damage practices?',\n",
              "   'Many developing countries already know that adaptation measures they need to put in place - put lack the finances to do so. This is critical for the countries that need to'],\n",
              "  ['What are some solutions to deal with extreme weather and sea-level rise?',\n",
              "   'One example of a solution for a nature-based infrastructure comprises of an artificial beach and dune landscape across 7 kilometres in Netherlands.',\n",
              "   'One example for a solution is The Coastal Forecasting Demonstration Project that provides an early warning system and alerts for coastal flooding in Pacific Island Countries.'],\n",
              "  ['How to improve food and water security?',\n",
              "   'Increase soil organic matter and erosion control, improve cropland, livestock, grazing land management.',\n",
              "   'Demand-side adaptation, such as adoption of healthy and sustainable diets, in conjunction with reduction in food loss and waste.'],\n",
              "  ['What is the concept of loss and damage payments?',\n",
              "   \"The world's richest nations should follow through on their climate finance promise, originally made in 2009, to pay US$100bn to developing countries.\",\n",
              "   'The UK House of Commons briefing highlights this target has been missed every year since 2013.'],\n",
              "  ['What are some regional solutions we can use to help the Arctic?',\n",
              "   'Build on indigenous intelligence and traditional knowledge.',\n",
              "   'More investment in the Arctic to help communities adapt to climate change.'],\n",
              "  ['Does oversleeping cause depression?',\n",
              "   \"It's important to remember that\\xa0oversleeping\\xa0is a possible symptom of\\xa0depression\\xa0and that\\xa0oversleeping\\xa0doesn't\\xa0cause depression. But it\\xa0can\\xa0exacerbate and worsen\\xa0depression symptoms\"],\n",
              "  ['How to utilize the knowledge of indigenous communities?',\n",
              "   'There are organizations such as Indigenous Guardians and Wildfire Management which utilize indigenous knowledge to build models for environmental management, fire stewardship, and increasing biodiversity on our planet.',\n",
              "   'One example of such a practice is utilizing the knowledge of The Inuit community in Canada to produce sea ice charts for the Sea Ice Climate Atlas.'],\n",
              "  ['How can we create more investment in the Arctic?',\n",
              "   'Investment from the private sector to support resilience.',\n",
              "   'Social enterprise serves as a model for resilience in the Arctic and globally.',\n",
              "   {'One such example of a social enterprise is': 'SmartICE. SmartICE partners with Arctic Indigenous communities to empower them to monitor the ice that not only acts as their harvesting platform and travel highway but is central to their culture and identity.'}],\n",
              "  ['How to support environmental management in the Arctic?',\n",
              "   'It is important to protect forests and peatland that can limit permafrost disruption.',\n",
              "   \"Areas with herds of large Arctic herbivores like reindeer, horses and bison have a soil temperature about 2 degrees colder compared to herd-free areas. Strategically resettling herds like these could help preserve the Arctic's permafrost.\"],\n",
              "  ['How to monitor the effects of climate change in the Arctic?',\n",
              "   'Monitoring changes in vegetation and permafrost thaw in the Arctic combined with distributed monitoring systems can highlight regions for preservation.',\n",
              "   'Emissions tracking can give rise to improved understanding of polluted transport into and out of the Arctic from extractive industries.'],\n",
              "  ['How is Arctic Basecamp helping the challenges in the Arctic?',\n",
              "   'Arctic Basecamp is a not-for-profit organization headquarted in the Netherlands. Our mission is to \"speak science to power\" and communicate how the Arctic is a critical barometer for, and a driver of, global risk. We support urgent low carbon action on insightful analysis that is supported by robust, rigorous and cutting-edge science.',\n",
              "   'By sharing knowledge and science, Arctic Basecamp works with partners to call for urgent action from global leaders to mitigate, adapt and build resilience to global risks from climate.']]}"
            ]
          },
          "metadata": {},
          "execution_count": 4
        }
      ]
    },
    {
      "cell_type": "markdown",
      "source": [
        "Loading Conversations"
      ],
      "metadata": {
        "id": "3ogDds2sek_J"
      }
    },
    {
      "cell_type": "code",
      "source": [
        "convos = data['conversations']\n",
        "\n",
        "convos[0]"
      ],
      "metadata": {
        "colab": {
          "base_uri": "https://localhost:8080/"
        },
        "id": "OmTsPZSpOG0g",
        "outputId": "1012a729-b345-458c-f863-eb41669cf811"
      },
      "execution_count": null,
      "outputs": [
        {
          "output_type": "execute_result",
          "data": {
            "text/plain": [
              "['Why is the Arctic important in the climate change crisis?',\n",
              " \"The Arctic is central to climate risks because it has a disproportionately strong effect on climate and weather in the rest of the world. The Arctic helps regulate the world's climate, influencing the Earth's atmospheric circulation systems.\",\n",
              " 'It has direct and indirect impacts on extreme heat and cold.',\n",
              " 'It warms at least three times faster than the rest of the planet.']"
            ]
          },
          "metadata": {},
          "execution_count": 5
        }
      ]
    },
    {
      "cell_type": "code",
      "source": [
        "output = []"
      ],
      "metadata": {
        "id": "o-v437pATBrh"
      },
      "execution_count": null,
      "outputs": []
    },
    {
      "cell_type": "code",
      "source": [
        "for convo in convos:\n",
        "  completion = ''\n",
        "  for i, dialog in enumerate(convo):\n",
        "    if i == 0:\n",
        "      prompt = dialog\n",
        "      # p_encode = prompt.encode(\"ascii\", \"ignore\")\n",
        "      # prompt = p_encode.decode()\n",
        "      prompt = prompt.replace(\"\\xa0\", \" \")\n",
        "      # print('prompt:',prompt)\n",
        "    else:\n",
        "      # c_encode = completion.encode(\"ascii\", \"ignore\")\n",
        "      # completion = c_encode.decode()\n",
        "      completion = completion.replace(\"\\xa0\", \" \")\n",
        "  completion = completion.strip()\n",
        "  line = {'prompt': prompt, 'completion': completion}\n",
        "  # print(line)\n",
        "  output.append(line)\n",
        "\n",
        "print(output)"
      ],
      "metadata": {
        "colab": {
          "base_uri": "https://localhost:8080/"
        },
        "id": "3Yz-LYKiOXln",
        "outputId": "811cff1d-b770-491f-8988-2ff679fd966a"
      },
      "execution_count": null,
      "outputs": [
        {
          "output_type": "stream",
          "name": "stdout",
          "text": [
            "[{'prompt': 'Why is the Arctic important in the climate change crisis?', 'completion': \"The Arctic is central to climate risks because it has a disproportionately strong effect on climate and weather in the rest of the world. The Arctic helps regulate the world's climate, influencing the Earth's atmospheric circulation systems. It has direct and indirect impacts on extreme heat and cold. It warms at least three times faster than the rest of the planet.\"}, {'prompt': 'What are the risks of the melting?', 'completion': 'Extreme weather and sea level rise. Supply chain disruption and heat stress. Accelerates melting of the Greenland ice sheet - which contains the equivalent of 7.4m of sea level rise.'}, {'prompt': 'What is currently happening at the Arctic?', 'completion': 'Arctic sea ice in winter, 2022, experienced the second earliest sea ice maximum due in part to heat waves in March. This resulted in significant deterioration in sea ice concentrations to the east of Greenland.'}, {'prompt': 'What are some examples for extreme weather?', 'completion': 'There were Arctic wildfires in Siberia. In the spring 2022, there were a record number of tornadoes that pummelled in the United States. Pakistan hit the warmest temperatures in 121 years.'}, {'prompt': 'How does the Arctic puts food security at risk?', 'completion': 'It contributes to the risk of crop failures due to jet stream changes. Extreme summer events disrupt the effective water management.'}, {'prompt': 'Why is the Arctic important in the climate change crisis?', 'completion': ''}, {'prompt': 'What are the risks of the melting?', 'completion': ''}, {'prompt': 'What is currently happening at the Arctic?', 'completion': ''}, {'prompt': 'What are some examples for extreme weather?', 'completion': ''}, {'prompt': 'How does the Arctic puts food security at risk?', 'completion': ''}, {'prompt': 'How does the Arctic influence the economic cost of climate change?', 'completion': ''}, {'prompt': 'How do we stay out of fossil fuels?', 'completion': ''}, {'prompt': 'How can we define a business roadmap for climate action?', 'completion': ''}, {'prompt': 'How to reduce black carbon emissions?', 'completion': ''}, {'prompt': 'What are some solutions to help the Arctic?', 'completion': ''}, {'prompt': 'How to align financial flows with net zero?', 'completion': ''}, {'prompt': 'What are the adaptation, loss and damage practices?', 'completion': ''}, {'prompt': 'What are some solutions to deal with extreme weather and sea-level rise?', 'completion': ''}, {'prompt': 'How to improve food and water security?', 'completion': ''}, {'prompt': 'What is the concept of loss and damage payments?', 'completion': ''}, {'prompt': 'What are some regional solutions we can use to help the Arctic?', 'completion': ''}, {'prompt': 'Does oversleeping cause depression?', 'completion': ''}, {'prompt': 'How to utilize the knowledge of indigenous communities?', 'completion': ''}, {'prompt': 'How can we create more investment in the Arctic?', 'completion': ''}, {'prompt': 'How to support environmental management in the Arctic?', 'completion': ''}, {'prompt': 'How to monitor the effects of climate change in the Arctic?', 'completion': ''}, {'prompt': 'How is Arctic Basecamp helping the challenges in the Arctic?', 'completion': ''}]\n"
          ]
        }
      ]
    },
    {
      "cell_type": "code",
      "source": [
        "from google.colab import files"
      ],
      "metadata": {
        "id": "ijmYBGaTVqGD"
      },
      "execution_count": null,
      "outputs": []
    },
    {
      "cell_type": "code",
      "source": [
        "with open('climate-change.jsonl', 'w') as outfile:\n",
        "        for i in output:\n",
        "            json.dump(i, outfile)\n",
        "            outfile.write('\\n')\n",
        "\n",
        "\n",
        "files.download('climate-change.jsonl')\n"
      ],
      "metadata": {
        "id": "ETdV0OyYPFYZ",
        "colab": {
          "base_uri": "https://localhost:8080/",
          "height": 17
        },
        "outputId": "e6aeeceb-b566-4c8e-debb-d9e6d73389d0"
      },
      "execution_count": null,
      "outputs": [
        {
          "output_type": "display_data",
          "data": {
            "text/plain": [
              "<IPython.core.display.Javascript object>"
            ],
            "application/javascript": [
              "\n",
              "    async function download(id, filename, size) {\n",
              "      if (!google.colab.kernel.accessAllowed) {\n",
              "        return;\n",
              "      }\n",
              "      const div = document.createElement('div');\n",
              "      const label = document.createElement('label');\n",
              "      label.textContent = `Downloading \"${filename}\": `;\n",
              "      div.appendChild(label);\n",
              "      const progress = document.createElement('progress');\n",
              "      progress.max = size;\n",
              "      div.appendChild(progress);\n",
              "      document.body.appendChild(div);\n",
              "\n",
              "      const buffers = [];\n",
              "      let downloaded = 0;\n",
              "\n",
              "      const channel = await google.colab.kernel.comms.open(id);\n",
              "      // Send a message to notify the kernel that we're ready.\n",
              "      channel.send({})\n",
              "\n",
              "      for await (const message of channel.messages) {\n",
              "        // Send a message to notify the kernel that we're ready.\n",
              "        channel.send({})\n",
              "        if (message.buffers) {\n",
              "          for (const buffer of message.buffers) {\n",
              "            buffers.push(buffer);\n",
              "            downloaded += buffer.byteLength;\n",
              "            progress.value = downloaded;\n",
              "          }\n",
              "        }\n",
              "      }\n",
              "      const blob = new Blob(buffers, {type: 'application/binary'});\n",
              "      const a = document.createElement('a');\n",
              "      a.href = window.URL.createObjectURL(blob);\n",
              "      a.download = filename;\n",
              "      div.appendChild(a);\n",
              "      a.click();\n",
              "      div.remove();\n",
              "    }\n",
              "  "
            ]
          },
          "metadata": {}
        },
        {
          "output_type": "display_data",
          "data": {
            "text/plain": [
              "<IPython.core.display.Javascript object>"
            ],
            "application/javascript": [
              "download(\"download_f75a8b99-d6d6-42f1-80aa-ee5c441faaca\", \"climate-change.jsonl\", 3281)"
            ]
          },
          "metadata": {}
        }
      ]
    },
    {
      "cell_type": "markdown",
      "source": [
        "Install Dependencies"
      ],
      "metadata": {
        "id": "EodyFnI9gAu_"
      }
    },
    {
      "cell_type": "code",
      "source": [
        "pip install openai"
      ],
      "metadata": {
        "id": "2auTioYVSImG",
        "colab": {
          "base_uri": "https://localhost:8080/"
        },
        "outputId": "6557e983-aebb-404b-8a67-69caaf53f348"
      },
      "execution_count": null,
      "outputs": [
        {
          "output_type": "stream",
          "name": "stdout",
          "text": [
            "Collecting openai\n",
            "  Downloading openai-1.33.0-py3-none-any.whl (325 kB)\n",
            "\u001b[?25l     \u001b[90m━━━━━━━━━━━━━━━━━━━━━━━━━━━━━━━━━━━━━━━━\u001b[0m \u001b[32m0.0/325.5 kB\u001b[0m \u001b[31m?\u001b[0m eta \u001b[36m-:--:--\u001b[0m\r\u001b[2K     \u001b[91m━━━━━━━━━━━━━━━━━━━━━━━━━━━━━━━━━━━━\u001b[0m\u001b[90m╺\u001b[0m\u001b[90m━━━\u001b[0m \u001b[32m297.0/325.5 kB\u001b[0m \u001b[31m8.0 MB/s\u001b[0m eta \u001b[36m0:00:01\u001b[0m\r\u001b[2K     \u001b[90m━━━━━━━━━━━━━━━━━━━━━━━━━━━━━━━━━━━━━━━━\u001b[0m \u001b[32m325.5/325.5 kB\u001b[0m \u001b[31m6.8 MB/s\u001b[0m eta \u001b[36m0:00:00\u001b[0m\n",
            "\u001b[?25hRequirement already satisfied: anyio<5,>=3.5.0 in /usr/local/lib/python3.10/dist-packages (from openai) (3.7.1)\n",
            "Requirement already satisfied: distro<2,>=1.7.0 in /usr/lib/python3/dist-packages (from openai) (1.7.0)\n",
            "Collecting httpx<1,>=0.23.0 (from openai)\n",
            "  Downloading httpx-0.27.0-py3-none-any.whl (75 kB)\n",
            "\u001b[2K     \u001b[90m━━━━━━━━━━━━━━━━━━━━━━━━━━━━━━━━━━━━━━━━\u001b[0m \u001b[32m75.6/75.6 kB\u001b[0m \u001b[31m7.6 MB/s\u001b[0m eta \u001b[36m0:00:00\u001b[0m\n",
            "\u001b[?25hRequirement already satisfied: pydantic<3,>=1.9.0 in /usr/local/lib/python3.10/dist-packages (from openai) (2.7.3)\n",
            "Requirement already satisfied: sniffio in /usr/local/lib/python3.10/dist-packages (from openai) (1.3.1)\n",
            "Requirement already satisfied: tqdm>4 in /usr/local/lib/python3.10/dist-packages (from openai) (4.66.4)\n",
            "Requirement already satisfied: typing-extensions<5,>=4.7 in /usr/local/lib/python3.10/dist-packages (from openai) (4.12.1)\n",
            "Requirement already satisfied: idna>=2.8 in /usr/local/lib/python3.10/dist-packages (from anyio<5,>=3.5.0->openai) (3.7)\n",
            "Requirement already satisfied: exceptiongroup in /usr/local/lib/python3.10/dist-packages (from anyio<5,>=3.5.0->openai) (1.2.1)\n",
            "Requirement already satisfied: certifi in /usr/local/lib/python3.10/dist-packages (from httpx<1,>=0.23.0->openai) (2024.6.2)\n",
            "Collecting httpcore==1.* (from httpx<1,>=0.23.0->openai)\n",
            "  Downloading httpcore-1.0.5-py3-none-any.whl (77 kB)\n",
            "\u001b[2K     \u001b[90m━━━━━━━━━━━━━━━━━━━━━━━━━━━━━━━━━━━━━━━━\u001b[0m \u001b[32m77.9/77.9 kB\u001b[0m \u001b[31m7.2 MB/s\u001b[0m eta \u001b[36m0:00:00\u001b[0m\n",
            "\u001b[?25hCollecting h11<0.15,>=0.13 (from httpcore==1.*->httpx<1,>=0.23.0->openai)\n",
            "  Downloading h11-0.14.0-py3-none-any.whl (58 kB)\n",
            "\u001b[2K     \u001b[90m━━━━━━━━━━━━━━━━━━━━━━━━━━━━━━━━━━━━━━━━\u001b[0m \u001b[32m58.3/58.3 kB\u001b[0m \u001b[31m5.9 MB/s\u001b[0m eta \u001b[36m0:00:00\u001b[0m\n",
            "\u001b[?25hRequirement already satisfied: annotated-types>=0.4.0 in /usr/local/lib/python3.10/dist-packages (from pydantic<3,>=1.9.0->openai) (0.7.0)\n",
            "Requirement already satisfied: pydantic-core==2.18.4 in /usr/local/lib/python3.10/dist-packages (from pydantic<3,>=1.9.0->openai) (2.18.4)\n",
            "Installing collected packages: h11, httpcore, httpx, openai\n",
            "Successfully installed h11-0.14.0 httpcore-1.0.5 httpx-0.27.0 openai-1.33.0\n"
          ]
        }
      ]
    },
    {
      "cell_type": "code",
      "source": [
        "!openai tools fine_tunes.prepare_data -f '/content/climate-change.jsonl'\n"
      ],
      "metadata": {
        "colab": {
          "base_uri": "https://localhost:8080/"
        },
        "id": "i6I6uIECROn7",
        "outputId": "53adbfdc-c8a2-4a85-accf-4fe9e08fcc7e"
      },
      "execution_count": null,
      "outputs": [
        {
          "output_type": "stream",
          "name": "stdout",
          "text": [
            "Analyzing...\n",
            "\n",
            "- Your file contains 27 prompt-completion pairs. In general, we recommend having at least a few hundred examples. We've found that performance tends to linearly increase for every doubling of the number of examples\n",
            "- `completion` column/key should not contain empty strings. These are rows: [5, 6, 7, 8, 9, 10, 11, 12, 13, 14, 15, 16, 17, 18, 19, 20, 21, 22, 23, 24, 25, 26]\n",
            "- All prompts end with suffix `?`\n",
            "- All completions end with suffix `.`\n",
            "  WARNING: Some of your completions contain the suffix `.` more than once. We suggest that you review your completions and add a unique ending\n",
            "- The completion should start with a whitespace character (` `). This tends to produce better results due to the tokenization we use. See https://platform.openai.com/docs/guides/fine-tuning/preparing-your-dataset for more details\n",
            "\n",
            "Based on the analysis we will perform the following actions:\n",
            "- [Necessary] Remove 22 rows with empty completions\n",
            "- [Recommended] Add a whitespace character to the beginning of the completion [Y/n]: y\n",
            "\n",
            "\n",
            "Your data will be written to a new JSONL file. Proceed [Y/n]: y\n",
            "\n",
            "Wrote modified file to `/content/climate-change_prepared.jsonl`\n",
            "Feel free to take a look!\n",
            "\n",
            "Now use that file when fine-tuning:\n",
            "> openai api fine_tunes.create -t \"/content/climate-change_prepared.jsonl\"\n",
            "\n",
            "After you’ve fine-tuned a model, remember that your prompt has to end with the indicator string `?` for the model to start generating completions, rather than continuing with the prompt. Make sure to include `stop=[\".\"]` so that the generated texts ends at the expected place.\n",
            "Once your model starts training, it'll approximately take 2.58 minutes to train a `curie` model, and less for `ada` and `babbage`. Queue will approximately take half an hour per job ahead of you.\n"
          ]
        }
      ]
    },
    {
      "cell_type": "markdown",
      "source": [
        "# Load Open AI"
      ],
      "metadata": {
        "id": "3XfG69VTrEqT"
      }
    },
    {
      "cell_type": "code",
      "source": [
        "import os"
      ],
      "metadata": {
        "id": "gTVZLlf4lNHF"
      },
      "execution_count": null,
      "outputs": []
    },
    {
      "cell_type": "code",
      "source": [
        "os.environ['OPENAI_API_KEY'] = 'key'"
      ],
      "metadata": {
        "id": "oV2vabvCXHxy"
      },
      "execution_count": null,
      "outputs": []
    },
    {
      "cell_type": "code",
      "source": [
        "!set OPENAI_API_KEY=sk-key"
      ],
      "metadata": {
        "id": "FgO1egbbsXT7"
      },
      "execution_count": null,
      "outputs": []
    },
    {
      "cell_type": "code",
      "source": [
        "!openai api fine_tunes.create -t \"/content/climate-change_prepared.jsonl\" -m ada --n_epochs 1"
      ],
      "metadata": {
        "colab": {
          "base_uri": "https://localhost:8080/"
        },
        "id": "epglrlaFTjtY",
        "outputId": "76a53720-f413-4439-b310-e569ee4f5411"
      },
      "execution_count": null,
      "outputs": [
        {
          "output_type": "stream",
          "name": "stdout",
          "text": [
            "usage: openai api [-h]\n",
            "                  {chat.completions.create,images.generate,images.edit,images.create_variation,audio.transcriptions.create,audio.translations.create,files.create,files.retrieve,files.delete,files.list,models.list,models.retrieve,models.delete,completions.create}\n",
            "                  ...\n",
            "openai api: error: argument {chat.completions.create,images.generate,images.edit,images.create_variation,audio.transcriptions.create,audio.translations.create,files.create,files.retrieve,files.delete,files.list,models.list,models.retrieve,models.delete,completions.create}: invalid choice: 'fine_tunes.create' (choose from 'chat.completions.create', 'images.generate', 'images.edit', 'images.create_variation', 'audio.transcriptions.create', 'audio.translations.create', 'files.create', 'files.retrieve', 'files.delete', 'files.list', 'models.list', 'models.retrieve', 'models.delete', 'completions.create')\n"
          ]
        }
      ]
    },
    {
      "cell_type": "code",
      "source": [
        "!openai api fine_tunes.follow -i ft-pIIgVaNien0aXR6zEoxGfvrQ"
      ],
      "metadata": {
        "colab": {
          "base_uri": "https://localhost:8080/"
        },
        "id": "NQLBFgWGmhkb",
        "outputId": "4a83d9cb-c205-4876-efbb-177de896d504"
      },
      "execution_count": null,
      "outputs": [
        {
          "output_type": "stream",
          "name": "stdout",
          "text": [
            "[2023-07-01 23:36:39] Created fine-tune: ft-pIIgVaNien0aXR6zEoxGfvrQ\n",
            "\n",
            "Stream interrupted (client disconnected).\n",
            "To resume the stream, run:\n",
            "\n",
            "  openai api fine_tunes.follow -i ft-pIIgVaNien0aXR6zEoxGfvrQ\n",
            "\n"
          ]
        }
      ]
    },
    {
      "cell_type": "code",
      "source": [
        "!openai api fine_tunes.follow -i ft-KkJq4fjwylBUfErjmmTQyAQG"
      ],
      "metadata": {
        "colab": {
          "base_uri": "https://localhost:8080/"
        },
        "id": "h6Bto94UnZN7",
        "outputId": "9ecd9c53-8d75-4ed6-9545-5afb517ebd01"
      },
      "execution_count": null,
      "outputs": [
        {
          "output_type": "stream",
          "name": "stdout",
          "text": [
            "[2023-07-01 22:35:42] Created fine-tune: ft-KkJq4fjwylBUfErjmmTQyAQG\n",
            "\n",
            "Stream interrupted (client disconnected).\n",
            "To resume the stream, run:\n",
            "\n",
            "  openai api fine_tunes.follow -i ft-KkJq4fjwylBUfErjmmTQyAQG\n",
            "\n"
          ]
        }
      ]
    },
    {
      "cell_type": "code",
      "source": [
        "!openai api fine_tunes.follow -i ft-rqC2EgLBkJjAKtKXv8z9YOid"
      ],
      "metadata": {
        "colab": {
          "base_uri": "https://localhost:8080/"
        },
        "id": "9s_L3poYpdA9",
        "outputId": "c266478e-70e3-42bf-ac64-574f64f090e2"
      },
      "execution_count": null,
      "outputs": [
        {
          "output_type": "stream",
          "name": "stdout",
          "text": [
            "[2023-07-01 23:06:10] Created fine-tune: ft-rqC2EgLBkJjAKtKXv8z9YOid\n",
            "\n",
            "Stream interrupted (client disconnected).\n",
            "To resume the stream, run:\n",
            "\n",
            "  openai api fine_tunes.follow -i ft-rqC2EgLBkJjAKtKXv8z9YOid\n",
            "\n"
          ]
        }
      ]
    },
    {
      "cell_type": "code",
      "source": [],
      "metadata": {
        "id": "odw3HUM2rmmw"
      },
      "execution_count": null,
      "outputs": []
    }
  ]
}